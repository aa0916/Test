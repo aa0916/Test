{
 "cells": [
  {
   "cell_type": "code",
   "execution_count": 44,
   "metadata": {},
   "outputs": [],
   "source": [
    "import pyspark\n",
    "\n",
    "from pyspark.sql import SparkSession\n",
    "\n",
    "spark = SparkSession.builder.appName(\"worker_module\").getOrCreate()\n",
    "\n",
    "from pyspark.sql import functions as F"
   ]
  },
  {
   "cell_type": "markdown",
   "metadata": {},
   "source": [
    "Impute the null continent name with mode of continent name \n",
    "Which continent has the highest number of Countries?\n",
    "Top 5 countries for each continent in terms of wine servings\n",
    "Top country for each continent in terms of alcohol servings\n",
    "Find the most popular wine color for continent - EU and AS"
   ]
  },
  {
   "cell_type": "code",
   "execution_count": 27,
   "metadata": {},
   "outputs": [
    {
     "name": "stdout",
     "output_type": "stream",
     "text": [
      "+------------+-----------------------+-------------------------+-----------------------+-------------------------------+--------------+\n",
      "|Country_Name|Number_of_Beer_Servings|Number_of_Spirit_Servings|Number_of_Wine_servings|Pure_alcohol_Consumption_litres|Continent_Name|\n",
      "+------------+-----------------------+-------------------------+-----------------------+-------------------------------+--------------+\n",
      "| Afghanistan|                      0|                        0|                      0|                            0.0|            AS|\n",
      "|     Albania|                     89|                      132|                     54|                            4.9|            EU|\n",
      "|     Algeria|                     25|                        0|                     14|                            0.7|            AF|\n",
      "|     Andorra|                    245|                      138|                    312|                           12.4|            EU|\n",
      "|      Angola|                    217|                       57|                     45|                            5.9|            AF|\n",
      "+------------+-----------------------+-------------------------+-----------------------+-------------------------------+--------------+\n",
      "only showing top 5 rows\n",
      "\n",
      "+------------+--------------+----------+\n",
      "|Country_Name|Continent_Name|Wine color|\n",
      "+------------+--------------+----------+\n",
      "| Afghanistan|            AS|       Red|\n",
      "|     Albania|            EU|     Brown|\n",
      "|     Algeria|            AF|Blistering|\n",
      "|     Andorra|            EU|      Blue|\n",
      "|      Angola|            AF|Ocean blue|\n",
      "+------------+--------------+----------+\n",
      "only showing top 5 rows\n",
      "\n"
     ]
    }
   ],
   "source": [
    "#READ the data from CSV file.\n",
    "\n",
    "lms_data_1 = spark.read.csv(\"../Downloads/1535617931_LMS_DATA_1.csv\",header=True,inferSchema=True)\n",
    "\n",
    "lms_data_2 = spark.read.csv(\"../Downloads/1535617956_LMS_DATA_2.csv\",header=True,inferSchema=True)\n",
    "\n",
    "lms_data_1.show(5)\n",
    "\n",
    "lms_data_2.show(5)"
   ]
  },
  {
   "cell_type": "code",
   "execution_count": 62,
   "metadata": {},
   "outputs": [],
   "source": [
    "#JOIN the two tables (Left join)\n",
    "\n",
    "data = lms_data_1.join(lms_data_2,on=(lms_data_1.Country_Name == lms_data_2.Country_Name) & (lms_data_1.Continent_Name == lms_data_2.Continent_Name),how='left').select(lms_data_1['*'],lms_data_2['Wine color'])"
   ]
  },
  {
   "cell_type": "code",
   "execution_count": 63,
   "metadata": {},
   "outputs": [
    {
     "name": "stdout",
     "output_type": "stream",
     "text": [
      "+------------+-----------------------+-------------------------+-----------------------+-------------------------------+--------------+----------+\n",
      "|Country_Name|Number_of_Beer_Servings|Number_of_Spirit_Servings|Number_of_Wine_servings|Pure_alcohol_Consumption_litres|Continent_Name|Wine color|\n",
      "+------------+-----------------------+-------------------------+-----------------------+-------------------------------+--------------+----------+\n",
      "| Afghanistan|                      0|                        0|                      0|                            0.0|            AS|       Red|\n",
      "|     Albania|                     89|                      132|                     54|                            4.9|            EU|     Brown|\n",
      "|     Algeria|                     25|                        0|                     14|                            0.7|            AF|Blistering|\n",
      "|     Andorra|                    245|                      138|                    312|                           12.4|            EU|      Blue|\n",
      "|      Angola|                    217|                       57|                     45|                            5.9|            AF|Ocean blue|\n",
      "+------------+-----------------------+-------------------------+-----------------------+-------------------------------+--------------+----------+\n",
      "only showing top 5 rows\n",
      "\n"
     ]
    }
   ],
   "source": [
    "data.show(5)"
   ]
  },
  {
   "cell_type": "markdown",
   "metadata": {},
   "source": [
    "#### Impute the null continent name with mode of continent name \n"
   ]
  },
  {
   "cell_type": "code",
   "execution_count": 57,
   "metadata": {},
   "outputs": [],
   "source": [
    "# Get the mode of continent\n",
    "\n",
    "continent_mode =  data.groupby(\"Continent_Name\").count().orderBy(\"count\", ascending=False).first()[0]"
   ]
  },
  {
   "cell_type": "code",
   "execution_count": 76,
   "metadata": {},
   "outputs": [],
   "source": [
    "data_1 = data.fillna(continent_mode,subset=['Continent_Name'])"
   ]
  },
  {
   "cell_type": "code",
   "execution_count": 77,
   "metadata": {},
   "outputs": [
    {
     "name": "stdout",
     "output_type": "stream",
     "text": [
      "+-----------------+-----------------------+-------------------------+-----------------------+-------------------------------+--------------+----------+\n",
      "|     Country_Name|Number_of_Beer_Servings|Number_of_Spirit_Servings|Number_of_Wine_servings|Pure_alcohol_Consumption_litres|Continent_Name|Wine color|\n",
      "+-----------------+-----------------------+-------------------------+-----------------------+-------------------------------+--------------+----------+\n",
      "|      Afghanistan|                      0|                        0|                      0|                            0.0|            AS|       Red|\n",
      "|          Albania|                     89|                      132|                     54|                            4.9|            EU|     Brown|\n",
      "|          Algeria|                     25|                        0|                     14|                            0.7|            AF|Blistering|\n",
      "|          Andorra|                    245|                      138|                    312|                           12.4|            EU|      Blue|\n",
      "|           Angola|                    217|                       57|                     45|                            5.9|            AF|Ocean blue|\n",
      "|Antigua & Barbuda|                    102|                      128|                     45|                            4.9|            AF|      null|\n",
      "|        Argentina|                    193|                       25|                    221|                            8.3|            SA|     Brown|\n",
      "|          Armenia|                     21|                      179|                     11|                            3.8|            EU|Blistering|\n",
      "|        Australia|                    261|                       72|                    212|                           10.4|            OC|      Blue|\n",
      "|          Austria|                    279|                       75|                    191|                            9.7|            EU|Ocean blue|\n",
      "|       Azerbaijan|                     21|                       46|                      5|                            1.3|            EU|       Red|\n",
      "|          Bahamas|                    122|                      176|                     51|                            6.3|            AF|      null|\n",
      "|          Bahrain|                     42|                       63|                      7|                            2.0|            AS|Blistering|\n",
      "|       Bangladesh|                      0|                        0|                      0|                            0.0|            AS|      Blue|\n",
      "|         Barbados|                    143|                      173|                     36|                            6.3|            AF|      null|\n",
      "|          Belarus|                    142|                      373|                     42|                           14.4|            EU|       Red|\n",
      "|          Belgium|                    295|                       84|                    212|                           10.5|            EU|     Brown|\n",
      "|           Belize|                    263|                      114|                      8|                            6.8|            AF|      null|\n",
      "|            Benin|                     34|                        4|                     13|                            1.1|            AF|      Blue|\n",
      "|           Bhutan|                     23|                        0|                      0|                            0.4|            AS|Ocean blue|\n",
      "+-----------------+-----------------------+-------------------------+-----------------------+-------------------------------+--------------+----------+\n",
      "only showing top 20 rows\n",
      "\n"
     ]
    }
   ],
   "source": [
    "data_1.show()"
   ]
  },
  {
   "cell_type": "code",
   "execution_count": null,
   "metadata": {},
   "outputs": [],
   "source": []
  },
  {
   "cell_type": "markdown",
   "metadata": {},
   "source": [
    "#### Which continent has the highest number of Countries?\n"
   ]
  },
  {
   "cell_type": "code",
   "execution_count": 85,
   "metadata": {},
   "outputs": [],
   "source": [
    "#Creating temp df in order to not to consider multiple records.\n",
    "temp = data.groupBy('Continent_Name',\"Country_Name\").count()"
   ]
  },
  {
   "cell_type": "code",
   "execution_count": 96,
   "metadata": {},
   "outputs": [],
   "source": [
    "count = temp.groupBy(\"Continent_Name\").count().orderBy(\"count\", ascending=False).first()"
   ]
  },
  {
   "cell_type": "code",
   "execution_count": 99,
   "metadata": {},
   "outputs": [
    {
     "name": "stdout",
     "output_type": "stream",
     "text": [
      "The AF continet has 53 number of countries which is highest.\n"
     ]
    }
   ],
   "source": [
    "print(\"The\",count[0],\"continet has\",count[1], \"number of countries which is highest.\")"
   ]
  },
  {
   "cell_type": "code",
   "execution_count": null,
   "metadata": {},
   "outputs": [],
   "source": []
  },
  {
   "cell_type": "markdown",
   "metadata": {},
   "source": [
    "#### Top 5 countries for each continent in terms of wine servings\n"
   ]
  },
  {
   "cell_type": "code",
   "execution_count": 102,
   "metadata": {},
   "outputs": [],
   "source": [
    "from pyspark.sql.window import Window"
   ]
  },
  {
   "cell_type": "code",
   "execution_count": 103,
   "metadata": {},
   "outputs": [],
   "source": [
    "win = Window.partitionBy(\"Continent_Name\").orderBy(desc('Number_of_Wine_servings'))"
   ]
  },
  {
   "cell_type": "code",
   "execution_count": 117,
   "metadata": {},
   "outputs": [
    {
     "name": "stdout",
     "output_type": "stream",
     "text": [
      "+--------------+-------------------+----+-----------------------+\n",
      "|Continent_Name|       Country_Name|rank|Number_of_Wine_servings|\n",
      "+--------------+-------------------+----+-----------------------+\n",
      "|            SA|          Argentina|   1|                    221|\n",
      "|            SA|            Uruguay|   2|                    220|\n",
      "|            SA|              Chile|   3|                    172|\n",
      "|            SA|           Paraguay|   4|                     74|\n",
      "|            SA|               Peru|   5|                     21|\n",
      "|            AS|               Laos|   1|                    123|\n",
      "|            AS| Russian Federation|   2|                     73|\n",
      "|            AS|       Turkmenistan|   3|                     32|\n",
      "|            AS|            Lebanon|   4|                     31|\n",
      "|            AS|              Japan|   5|                     16|\n",
      "|            AS|              Syria|   5|                     16|\n",
      "|            OC|          Australia|   1|                    212|\n",
      "|            OC|        New Zealand|   2|                    175|\n",
      "|            OC|       Cook Islands|   3|                     74|\n",
      "|            OC|              Samoa|   4|                     24|\n",
      "|            OC|              Palau|   5|                     23|\n",
      "|            EU|             France|   1|                    370|\n",
      "|            EU|           Portugal|   2|                    339|\n",
      "|            EU|            Andorra|   3|                    312|\n",
      "|            EU|        Switzerland|   4|                    280|\n",
      "|            EU|            Denmark|   5|                    278|\n",
      "|            AF|  Equatorial Guinea|   1|                    233|\n",
      "|            AF|Sao Tome & Principe|   2|                    140|\n",
      "|            AF|             Canada|   3|                    100|\n",
      "|            AF|                USA|   4|                     84|\n",
      "|            AF|       South Africa|   5|                     81|\n",
      "+--------------+-------------------+----+-----------------------+\n",
      "\n"
     ]
    }
   ],
   "source": [
    "data_1.select('*', rank().over(win).alias('rank')) .filter(col('rank') <= 5).select([\"Continent_Name\",\"Country_Name\",'rank',\"Number_of_Wine_servings\"]).show(30)"
   ]
  },
  {
   "cell_type": "markdown",
   "metadata": {},
   "source": [
    "#### Top country for each continent in terms of alcohol servings\n"
   ]
  },
  {
   "cell_type": "code",
   "execution_count": 119,
   "metadata": {},
   "outputs": [],
   "source": [
    "win_1 = Window.partitionBy(\"Continent_Name\").orderBy(desc('Pure_alcohol_Consumption_litres'))"
   ]
  },
  {
   "cell_type": "code",
   "execution_count": 124,
   "metadata": {},
   "outputs": [
    {
     "name": "stdout",
     "output_type": "stream",
     "text": [
      "+--------------+------------------+----+-------------------------------+\n",
      "|Continent_Name|      Country_Name|rank|Pure_alcohol_Consumption_litres|\n",
      "+--------------+------------------+----+-------------------------------+\n",
      "|            SA|         Argentina|   1|                            8.3|\n",
      "|            AS|Russian Federation|   1|                           11.5|\n",
      "|            OC|         Australia|   1|                           10.4|\n",
      "|            EU|           Belarus|   1|                           14.4|\n",
      "|            AF|           Grenada|   1|                           11.9|\n",
      "+--------------+------------------+----+-------------------------------+\n",
      "\n"
     ]
    }
   ],
   "source": [
    "data_1.select('*', rank().over(win_1).alias('rank')) .filter(col('rank') <=1).select([\"Continent_Name\",\"Country_Name\",'rank',\"Pure_alcohol_Consumption_litres\"]).show(30)"
   ]
  },
  {
   "cell_type": "markdown",
   "metadata": {},
   "source": [
    "##### Find the most popular wine color for continent - EU and AS"
   ]
  },
  {
   "cell_type": "code",
   "execution_count": 141,
   "metadata": {},
   "outputs": [
    {
     "name": "stdout",
     "output_type": "stream",
     "text": [
      "+--------------+----------+-----+\n",
      "|Continent_Name|Wine color|count|\n",
      "+--------------+----------+-----+\n",
      "|            EU|     Brown|   15|\n",
      "|            AS|Blistering|   14|\n",
      "+--------------+----------+-----+\n",
      "only showing top 2 rows\n",
      "\n"
     ]
    }
   ],
   "source": [
    "data.groupBy('Continent_Name',\"Wine color\").count().filter(\"Continent_Name in ('EU','AS')\").orderBy(desc(\"count\")).show(2)"
   ]
  }
 ],
 "metadata": {
  "kernelspec": {
   "display_name": "Python 3",
   "language": "python",
   "name": "python3"
  },
  "language_info": {
   "codemirror_mode": {
    "name": "ipython",
    "version": 3
   },
   "file_extension": ".py",
   "mimetype": "text/x-python",
   "name": "python",
   "nbconvert_exporter": "python",
   "pygments_lexer": "ipython3",
   "version": "3.6.5"
  }
 },
 "nbformat": 4,
 "nbformat_minor": 2
}
